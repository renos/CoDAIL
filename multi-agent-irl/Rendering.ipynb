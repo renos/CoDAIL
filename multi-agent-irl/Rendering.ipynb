{
 "cells": [
  {
   "cell_type": "code",
   "execution_count": 1,
   "id": "00ea0f11",
   "metadata": {},
   "outputs": [
    {
     "name": "stderr",
     "output_type": "stream",
     "text": [
      "C:\\Users\\Renos\\anaconda3\\envs\\TFCW\\lib\\site-packages\\sklearn\\utils\\deprecation.py:144: FutureWarning: The sklearn.neighbors.kde module is  deprecated in version 0.22 and will be removed in version 0.24. The corresponding classes / functions should instead be imported from sklearn.neighbors. Anything that cannot be imported from sklearn.neighbors is now part of the private API.\n",
      "  warnings.warn(message, FutureWarning)\n"
     ]
    }
   ],
   "source": [
    "import gym\n",
    "import click\n",
    "import multiagent\n",
    "import time\n",
    "import tensorflow as tf\n",
    "import make_env\n",
    "import numpy as np\n",
    "from rl.common.misc_util import set_global_seeds\n",
    "from sandbox.mack.acktr_disc import Model, onehot\n",
    "from sandbox.mack.acktr_disc_om import Model as Model_om\n",
    "from sandbox.mack.policies import CategoricalPolicy\n",
    "from sandbox.mack.policies_om import CategoricalPolicy as CategoricalPolicy_om\n",
    "from sandbox.mack.opponent_policies import CategoricalPolicy as oppo_CategoricalPolicy\n",
    "from rl import bench\n",
    "import imageio\n",
    "import seaborn as sns\n",
    "import pickle as pkl\n",
    "from sklearn.neighbors.kde import KernelDensity\n",
    "import argparse"
   ]
  },
  {
   "cell_type": "code",
   "execution_count": 2,
   "id": "34b59401",
   "metadata": {},
   "outputs": [],
   "source": [
    "#@click.command()\n",
    "#@click.option('--image', is_flag=True, flag_value=True)\n",
    "#@click.option('--vis_dis', is_flag=True, flag_value=True)\n",
    "#@click.option('--hyper_study', is_flag=True, flag_value=True)\n",
    "#@click.option('--d', type=click.INT, default=1)\n",
    "#@click.option('--g', type=click.INT, default=1)\n",
    "#@click.option('--ent_coef', type=click.FLOAT, default=0)\n",
    "#@click.option('--kl', is_flag=True, flag_value=True)\n",
    "#@click.option('--env', type=click.STRING, default='simple_speaker_listener')\n",
    "#@click.option('--algo', type=click.STRING, default='mack')\n",
    "#@click.option('--disc_type', type=click.STRING, default='decentralized')\n",
    "# @click.option('--path', type=click.STRING, default='./results/mack/simple_speaker_listener/l-0.1-b-1000/seed-1/checkpoint07000')\n",
    "#@click.option('--seed', type=click.INT, default=1)\n",
    "#@click.option('--epoch', type=click.INT, default=55000)\n",
    "#@click.option('--sample', is_flag=True, flag_value=True)\n",
    "#@click.option('--all_exp', is_flag=True, flag_value=True)\n",
    "#@click.option('--curve', is_flag=True, flag_value=True)\n",
    "#@click.option('--num_trajs', type=click.INT, default=100)\n",
    "#@click.option('--traj_limitation', type=click.INT, default=200)\n",
    "\n",
    "\n",
    "arg_image = True\n",
    "arg_env = 'simple_tag'\n",
    "arg_algo = 'mack'\n",
    "arg_seed = 1\n",
    "arg_epoch = 55000\n",
    "arg_path = \"tbd\"\n",
    "arg_num_trajs = 100"
   ]
  },
  {
   "cell_type": "code",
   "execution_count": 3,
   "id": "5065ec9e",
   "metadata": {},
   "outputs": [
    {
     "name": "stdout",
     "output_type": "stream",
     "text": [
      "\u001b[33mWARN: Could not seed environment <MultiAgentEnv instance>\u001b[0m\n",
      "WARNING:tensorflow:From C:\\Users\\Renos\\Documents\\GitHub\\CoDAIL\\multi-agent-irl\\rl\\common\\misc_util.py:76: The name tf.set_random_seed is deprecated. Please use tf.compat.v1.set_random_seed instead.\n",
      "\n"
     ]
    }
   ],
   "source": [
    "env_name = arg_env\n",
    "env_id = arg_env\n",
    "\n",
    "def create_env(seed):\n",
    "    env = make_env.make_env(env_id)\n",
    "    env.seed(seed)\n",
    "    # env = bench.Monitor(env, '/tmp/',  allow_early_resets=True)\n",
    "    set_global_seeds(seed)\n",
    "    return env\n",
    "\n",
    "env = create_env(0)\n",
    "n_agents = len(env.action_space)\n",
    "\n",
    "ob_space = env.observation_space\n",
    "ac_space = env.action_space\n",
    "\n",
    "n_actions = [action.n for action in ac_space]"
   ]
  },
  {
   "cell_type": "code",
   "execution_count": 4,
   "id": "6afb501a",
   "metadata": {},
   "outputs": [
    {
     "name": "stdout",
     "output_type": "stream",
     "text": [
      "./results/mack/simple_tag//l-0.1-b-1000/seed-1/checkpoint55000\n"
     ]
    }
   ],
   "source": [
    "path = './results/'+arg_algo+'/'+env_name+'/'\n",
    "if arg_algo in ['mack', 'mppo', 'mack_om']:\n",
    "    path += '/l-0.1-b-1000/seed-'+str(1)+'/checkpoint' + '%05d'%arg_epoch\n",
    "    \n",
    "print(path)\n",
    "\n"
   ]
  },
  {
   "cell_type": "code",
   "execution_count": 5,
   "id": "0af06ad5",
   "metadata": {
    "scrolled": true
   },
   "outputs": [
    {
     "name": "stdout",
     "output_type": "stream",
     "text": [
      "WARNING:tensorflow:From C:\\Users\\Renos\\Documents\\GitHub\\CoDAIL\\multi-agent-irl\\sandbox\\mack\\acktr_disc.py:19: The name tf.ConfigProto is deprecated. Please use tf.compat.v1.ConfigProto instead.\n",
      "\n",
      "WARNING:tensorflow:From C:\\Users\\Renos\\Documents\\GitHub\\CoDAIL\\multi-agent-irl\\sandbox\\mack\\acktr_disc.py:23: The name tf.Session is deprecated. Please use tf.compat.v1.Session instead.\n",
      "\n",
      "[1, 2, 3, 4]\n",
      "WARNING:tensorflow:From C:\\Users\\Renos\\Documents\\GitHub\\CoDAIL\\multi-agent-irl\\sandbox\\mack\\acktr_disc.py:51: The name tf.placeholder is deprecated. Please use tf.compat.v1.placeholder instead.\n",
      "\n",
      "WARNING:tensorflow:From C:\\Users\\Renos\\Documents\\GitHub\\CoDAIL\\multi-agent-irl\\sandbox\\mack\\policies.py:21: The name tf.variable_scope is deprecated. Please use tf.compat.v1.variable_scope instead.\n",
      "\n",
      "WARNING:tensorflow:From C:\\Users\\Renos\\Documents\\GitHub\\CoDAIL\\multi-agent-irl\\rl\\acktr\\utils.py:58: The name tf.get_variable is deprecated. Please use tf.compat.v1.get_variable instead.\n",
      "\n",
      "Tensor(\"policy_0/pi/add:0\", shape=(1, 5), dtype=float32) Tensor(\"Placeholder_16:0\", shape=(1,), dtype=int32)\n",
      "WARNING:tensorflow:From C:\\Users\\Renos\\Documents\\GitHub\\CoDAIL\\multi-agent-irl\\rl\\acktr\\utils.py:8: The name tf.random_uniform is deprecated. Please use tf.random.uniform instead.\n",
      "\n",
      "WARNING:tensorflow:From C:\\Users\\Renos\\Documents\\GitHub\\CoDAIL\\multi-agent-irl\\rl\\acktr\\utils.py:9: The name tf.log is deprecated. Please use tf.math.log instead.\n",
      "\n",
      "Tensor(\"policy_0_1/pi/add:0\", shape=(500, 5), dtype=float32) Tensor(\"Placeholder_20:0\", shape=(500,), dtype=int32)\n",
      "WARNING:tensorflow:From C:\\Users\\Renos\\Documents\\GitHub\\CoDAIL\\multi-agent-irl\\rl\\acktr\\utils.py:17: calling reduce_max_v1 (from tensorflow.python.ops.math_ops) with keep_dims is deprecated and will be removed in a future version.\n",
      "Instructions for updating:\n",
      "keep_dims is deprecated, use keepdims instead\n",
      "WARNING:tensorflow:From C:\\Users\\Renos\\Documents\\GitHub\\CoDAIL\\multi-agent-irl\\rl\\acktr\\utils.py:19: calling reduce_sum_v1 (from tensorflow.python.ops.math_ops) with keep_dims is deprecated and will be removed in a future version.\n",
      "Instructions for updating:\n",
      "keep_dims is deprecated, use keepdims instead\n",
      "WARNING:tensorflow:From C:\\Users\\Renos\\Documents\\GitHub\\CoDAIL\\multi-agent-irl\\sandbox\\mack\\acktr_disc.py:95: The name tf.random_normal is deprecated. Please use tf.random.normal instead.\n",
      "\n",
      "Tensor(\"policy_1/pi/add:0\", shape=(1, 5), dtype=float32) Tensor(\"Placeholder_24:0\", shape=(1,), dtype=int32)\n",
      "Tensor(\"policy_1_1/pi/add:0\", shape=(500, 5), dtype=float32) Tensor(\"Placeholder_28:0\", shape=(500,), dtype=int32)\n",
      "Tensor(\"policy_2/pi/add:0\", shape=(1, 5), dtype=float32) Tensor(\"Placeholder_32:0\", shape=(1,), dtype=int32)\n",
      "Tensor(\"policy_2_1/pi/add:0\", shape=(500, 5), dtype=float32) Tensor(\"Placeholder_36:0\", shape=(500,), dtype=int32)\n",
      "Tensor(\"policy_3/pi/add:0\", shape=(1, 5), dtype=float32) Tensor(\"Placeholder_40:0\", shape=(1,), dtype=int32)\n",
      "Tensor(\"policy_3_1/pi/add:0\", shape=(500, 5), dtype=float32) Tensor(\"Placeholder_44:0\", shape=(500,), dtype=int32)\n",
      "WARNING:tensorflow:From C:\\Users\\Renos\\Documents\\GitHub\\CoDAIL\\multi-agent-irl\\rl\\acktr\\utils.py:106: The name tf.trainable_variables is deprecated. Please use tf.compat.v1.trainable_variables instead.\n",
      "\n",
      "WARNING:tensorflow:From C:\\Users\\Renos\\Documents\\GitHub\\CoDAIL\\multi-agent-irl\\sandbox\\mack\\acktr_disc.py:293: The name tf.global_variables_initializer is deprecated. Please use tf.compat.v1.global_variables_initializer instead.\n",
      "\n"
     ]
    }
   ],
   "source": [
    "make_model = lambda: Model(\n",
    "    CategoricalPolicy, ob_space, ac_space, 1, total_timesteps=1e7, nprocs=2, nsteps=500,\n",
    "    nstack=1, ent_coef=0.01, vf_coef=0.5, vf_fisher_coef=1.0, lr=0.01, max_grad_norm=0.5, kfac_clip=0.001,\n",
    "    lrschedule='linear', identical=make_env.get_identical(env_id), use_kfac=False)\n",
    "if arg_algo in ['mack_om', 'codail']:\n",
    "    print(\"here for some reason\")\n",
    "    make_model = lambda: Model_om(\n",
    "        CategoricalPolicy_om, oppo_CategoricalPolicy, ob_space, ac_space, 1, total_timesteps=1e7, nprocs=2, nsteps=500,\n",
    "        nstack=1, ent_coef=0.01, vf_coef=0.5, vf_fisher_coef=1.0, lr=0.01, max_grad_norm=0.5, kfac_clip=0.001,\n",
    "        lrschedule='linear', identical=make_env.get_identical(env_id), use_kfac=False)\n",
    "\n",
    "model = make_model()\n",
    "model.load(path)\n",
    "\n",
    "images = []\n",
    "sample_trajs = []\n",
    "# num_trajs = 100\n",
    "max_steps = 50\n",
    "avg_ret = [[] for _ in range(n_agents)]\n",
    "\n",
    "episode_r_n_all = []\n",
    "episode_r_n_sum = []\n",
    "\n",
    "all_pos = [[] for k in range(n_agents)]"
   ]
  },
  {
   "cell_type": "code",
   "execution_count": 6,
   "id": "83ecfa2b",
   "metadata": {},
   "outputs": [],
   "source": [
    "obs = env.reset()"
   ]
  },
  {
   "cell_type": "markdown",
   "id": "82a5307a",
   "metadata": {
    "scrolled": true
   },
   "source": [
    "for i in range(arg_num_trajs):\n",
    "    print(\"trajectory \", i)\n",
    "    all_ob, all_agent_ob, all_ac, all_rew, ep_ret = [], [], [], [], [0 for k in range(n_agents)]\n",
    "    for k in range(n_agents):\n",
    "        all_ob.append([])\n",
    "        all_ac.append([])\n",
    "        all_rew.append([])\n",
    "    obs = env.reset()\n",
    "    obs = [ob[None, :] for ob in obs]\n",
    "    action = [np.zeros([1]) for _ in range(n_agents)]\n",
    "    step = 0\n",
    "    done = False\n",
    "    episode_r_n = [0.] * n_agents\n",
    "    while (not done) or (step<=2):\n",
    "        if arg_algo != \"random\":\n",
    "            action, _, _ = model.step(obs, action)\n",
    "            actions_list = [onehot(action[k][0], n_actions[k]) for k in range(n_agents)]\n",
    "        else:\n",
    "            actions_list = [onehot(np.random.randint(n_actions[k]), n_actions[k]) for k in range(n_agents)]\n",
    "\n",
    "        for k in range(n_agents):\n",
    "            all_ob[k].append(obs[k])\n",
    "            all_ac[k].append(actions_list[k])\n",
    "        all_agent_ob.append(np.concatenate(obs, axis=1))\n",
    "        obs, rew, done, _ = env.step(actions_list)\n",
    "        print(obs)\n",
    "        episode_r_n = [episode_r_n[i]+rew[i] for i in range(n_agents)]\n",
    "        for k in range(n_agents):\n",
    "            all_rew[k].append(rew[k])\n",
    "            ep_ret[k] += rew[k]\n",
    "            all_pos[k].append(np.array(env.world.agents[k].state.p_pos))\n",
    "\n",
    "        obs = [ob[None, :] for ob in obs]\n",
    "        step += 1\n",
    "\n",
    "        if arg_image:\n",
    "            img = env.render(mode='rgb_array')\n",
    "            images.append(img[0])\n",
    "            time.sleep(0.02)\n",
    "        if step == max_steps or True in done:\n",
    "            done = True\n",
    "            # step = 0\n",
    "        else:\n",
    "            done = False\n",
    "\n",
    "    # print(\"\\n--- episode-{} | [sum-reward]: {}\".format(i, np.sum(episode_r_n)))\n",
    "    episode_r_n_all.append(episode_r_n)\n",
    "    episode_r_n_sum.append(np.sum(episode_r_n))\n",
    "\n",
    "    for k in range(n_agents):\n",
    "        all_ob[k] = np.squeeze(all_ob[k])\n",
    "\n",
    "    all_agent_ob = np.squeeze(all_agent_ob)\n",
    "    traj_data = {\n",
    "        \"ob\": all_ob, \"ac\": all_ac, \"rew\": all_rew,\n",
    "        \"ep_ret\": ep_ret, \"all_ob\": all_agent_ob\n",
    "    }\n",
    "\n",
    "    sample_trajs.append(traj_data)\n",
    "    # print('episode', i, 'expected_return', ep_ret)\n",
    "\n",
    "    for k in range(n_agents):\n",
    "        avg_ret[k].append(ep_ret[k])"
   ]
  },
  {
   "cell_type": "code",
   "execution_count": 7,
   "id": "f1242197",
   "metadata": {},
   "outputs": [],
   "source": [
    "data_path = './results/'+arg_algo+'/'+env_name+'/l-0.1-b-1000/seed-'+str(1)+ '/checkpoint' + '%05d'%arg_epoch + \"-%d\"%arg_num_trajs + \"tra-1.pkl\""
   ]
  },
  {
   "cell_type": "code",
   "execution_count": 8,
   "id": "ec7f8a8c",
   "metadata": {},
   "outputs": [],
   "source": [
    "with open(data_path, 'rb') as f:\n",
    "    data = pkl.load(f)"
   ]
  },
  {
   "cell_type": "code",
   "execution_count": 9,
   "id": "dec86af2",
   "metadata": {},
   "outputs": [
    {
     "data": {
      "text/plain": [
       "array([-0.52792787,  0.79273633])"
      ]
     },
     "execution_count": 9,
     "metadata": {},
     "output_type": "execute_result"
    }
   ],
   "source": [
    "data[0][\"ob\"][3][0][2:4]"
   ]
  },
  {
   "cell_type": "code",
   "execution_count": 10,
   "id": "de58cef1",
   "metadata": {},
   "outputs": [
    {
     "data": {
      "text/plain": [
       "[<multiagent.core.Agent at 0x211c105afd0>,\n",
       " <multiagent.core.Agent at 0x211c106d780>,\n",
       " <multiagent.core.Agent at 0x211c1076710>,\n",
       " <multiagent.core.Agent at 0x211c10767b8>,\n",
       " <multiagent.core.Landmark at 0x211c1076860>,\n",
       " <multiagent.core.Landmark at 0x211c10769b0>]"
      ]
     },
     "execution_count": 10,
     "metadata": {},
     "output_type": "execute_result"
    }
   ],
   "source": [
    "env.world.entities"
   ]
  },
  {
   "cell_type": "code",
   "execution_count": 11,
   "id": "a8d0683b",
   "metadata": {},
   "outputs": [],
   "source": [
    "def update_env_uppos_tag(state_data, timestep):\n",
    "    pray_perspective = state_data[3][timestep]\n",
    "    \n",
    "    pray_pos = pray_perspective[2:4]\n",
    "    landmark_1_pos = pray_perspective[4:6] + pray_pos\n",
    "    landmark_2_pos = pray_perspective[6:8] + pray_pos\n",
    "    predator_1_pos = pray_perspective[8:10] + pray_pos\n",
    "    predator_2_pos = pray_perspective[10:12] + pray_pos\n",
    "    predator_3_pos = pray_perspective[12:14] + pray_pos\n",
    "    \n",
    "    return [predator_1_pos, predator_2_pos, predator_3_pos, pray_pos, landmark_1_pos,landmark_2_pos]\n",
    "    \n",
    "    "
   ]
  },
  {
   "cell_type": "code",
   "execution_count": 13,
   "id": "f82dbf30",
   "metadata": {
    "scrolled": true
   },
   "outputs": [],
   "source": [
    "obs = env.reset()\n",
    "images = []\n",
    "for i in range(50):\n",
    "    if(arg_env == \"simple_tag\"):\n",
    "        update_list = update_env_uppos_tag(data[0][\"ob\"],i)\n",
    "    for j, pos in enumerate(update_list):\n",
    "        env.world.entities[j].state.p_pos = pos\n",
    "        \n",
    "        \n",
    "    img = env.render(mode='rgb_array')\n",
    "    images.append(img[0])\n",
    "    time.sleep(0.05)\n",
    "\n"
   ]
  },
  {
   "cell_type": "code",
   "execution_count": null,
   "id": "832cf3a3",
   "metadata": {},
   "outputs": [],
   "source": []
  }
 ],
 "metadata": {
  "kernelspec": {
   "display_name": "Python 3",
   "language": "python",
   "name": "python3"
  },
  "language_info": {
   "codemirror_mode": {
    "name": "ipython",
    "version": 3
   },
   "file_extension": ".py",
   "mimetype": "text/x-python",
   "name": "python",
   "nbconvert_exporter": "python",
   "pygments_lexer": "ipython3",
   "version": "3.6.13"
  }
 },
 "nbformat": 4,
 "nbformat_minor": 5
}
