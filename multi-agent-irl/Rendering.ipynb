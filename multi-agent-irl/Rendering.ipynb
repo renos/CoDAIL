{
 "cells": [
  {
   "cell_type": "code",
   "execution_count": 1,
   "id": "6c5c5ea5",
   "metadata": {},
   "outputs": [
    {
     "name": "stderr",
     "output_type": "stream",
     "text": [
      "/Users/renoszabounidis/opt/anaconda3/envs/TF1/lib/python3.5/site-packages/sklearn/utils/deprecation.py:144: FutureWarning: The sklearn.neighbors.kde module is  deprecated in version 0.22 and will be removed in version 0.24. The corresponding classes / functions should instead be imported from sklearn.neighbors. Anything that cannot be imported from sklearn.neighbors is now part of the private API.\n",
      "  warnings.warn(message, FutureWarning)\n"
     ]
    }
   ],
   "source": [
    "import gym\n",
    "import click\n",
    "import multiagent\n",
    "import time\n",
    "import tensorflow as tf\n",
    "import make_env\n",
    "import numpy as np\n",
    "from rl.common.misc_util import set_global_seeds\n",
    "from sandbox.mack.acktr_disc import Model, onehot\n",
    "from sandbox.mack.acktr_disc_om import Model as Model_om\n",
    "from sandbox.mack.policies import CategoricalPolicy\n",
    "from sandbox.mack.policies_om import CategoricalPolicy as CategoricalPolicy_om\n",
    "from sandbox.mack.opponent_policies import CategoricalPolicy as oppo_CategoricalPolicy\n",
    "from rl import bench\n",
    "import imageio\n",
    "import seaborn as sns\n",
    "import pickle as pkl\n",
    "from sklearn.neighbors.kde import KernelDensity\n",
    "import argparse"
   ]
  },
  {
   "cell_type": "code",
   "execution_count": 2,
   "id": "6912cf9d",
   "metadata": {},
   "outputs": [],
   "source": [
    "#@click.command()\n",
    "#@click.option('--image', is_flag=True, flag_value=True)\n",
    "#@click.option('--vis_dis', is_flag=True, flag_value=True)\n",
    "#@click.option('--hyper_study', is_flag=True, flag_value=True)\n",
    "#@click.option('--d', type=click.INT, default=1)\n",
    "#@click.option('--g', type=click.INT, default=1)\n",
    "#@click.option('--ent_coef', type=click.FLOAT, default=0)\n",
    "#@click.option('--kl', is_flag=True, flag_value=True)\n",
    "#@click.option('--env', type=click.STRING, default='simple_speaker_listener')\n",
    "#@click.option('--algo', type=click.STRING, default='mack')\n",
    "#@click.option('--disc_type', type=click.STRING, default='decentralized')\n",
    "# @click.option('--path', type=click.STRING, default='./results/mack/simple_speaker_listener/l-0.1-b-1000/seed-1/checkpoint07000')\n",
    "#@click.option('--seed', type=click.INT, default=1)\n",
    "#@click.option('--epoch', type=click.INT, default=55000)\n",
    "#@click.option('--sample', is_flag=True, flag_value=True)\n",
    "#@click.option('--all_exp', is_flag=True, flag_value=True)\n",
    "#@click.option('--curve', is_flag=True, flag_value=True)\n",
    "#@click.option('--num_trajs', type=click.INT, default=100)\n",
    "#@click.option('--traj_limitation', type=click.INT, default=200)\n",
    "\n",
    "\n",
    "arg_image = True\n",
    "arg_env = 'simple_tag'\n",
    "arg_algo = 'mack'\n",
    "arg_seed = 1\n",
    "arg_epoch = 55000\n",
    "arg_path = \"tbd\"\n",
    "arg_num_trajs = 100"
   ]
  },
  {
   "cell_type": "code",
   "execution_count": 3,
   "id": "0f85b69b",
   "metadata": {},
   "outputs": [
    {
     "name": "stdout",
     "output_type": "stream",
     "text": [
      "\u001b[33mWARN: Could not seed environment <MultiAgentEnv instance>\u001b[0m\n",
      "WARNING:tensorflow:From /Users/renoszabounidis/Documents/CoDAIL/multi-agent-irl/rl/common/misc_util.py:76: The name tf.set_random_seed is deprecated. Please use tf.compat.v1.set_random_seed instead.\n",
      "\n"
     ]
    }
   ],
   "source": [
    "env_name = arg_env\n",
    "env_id = arg_env\n",
    "\n",
    "def create_env(seed):\n",
    "    env = make_env.make_env(env_id)\n",
    "    env.seed(seed)\n",
    "    # env = bench.Monitor(env, '/tmp/',  allow_early_resets=True)\n",
    "    set_global_seeds(seed)\n",
    "    return env\n",
    "\n",
    "env = create_env(0)\n",
    "n_agents = len(env.action_space)\n",
    "\n",
    "ob_space = env.observation_space\n",
    "ac_space = env.action_space\n",
    "\n",
    "n_actions = [action.n for action in ac_space]"
   ]
  },
  {
   "cell_type": "code",
   "execution_count": 4,
   "id": "ad661aaf",
   "metadata": {},
   "outputs": [
    {
     "name": "stdout",
     "output_type": "stream",
     "text": [
      "./results/mack/simple_tag//l-0.1-b-1000/seed-1/checkpoint55000\n"
     ]
    }
   ],
   "source": [
    "path = './results/'+arg_algo+'/'+env_name+'/'\n",
    "if arg_algo in ['mack', 'mppo', 'mack_om']:\n",
    "    path += '/l-0.1-b-1000/seed-'+str(1)+'/checkpoint' + '%05d'%arg_epoch\n",
    "    \n",
    "print(path)\n",
    "\n"
   ]
  },
  {
   "cell_type": "code",
   "execution_count": 5,
   "id": "a506e5e7",
   "metadata": {},
   "outputs": [
    {
     "name": "stdout",
     "output_type": "stream",
     "text": [
      "WARNING:tensorflow:From /Users/renoszabounidis/Documents/CoDAIL/multi-agent-irl/sandbox/mack/acktr_disc.py:19: The name tf.ConfigProto is deprecated. Please use tf.compat.v1.ConfigProto instead.\n",
      "\n",
      "WARNING:tensorflow:From /Users/renoszabounidis/Documents/CoDAIL/multi-agent-irl/sandbox/mack/acktr_disc.py:23: The name tf.Session is deprecated. Please use tf.compat.v1.Session instead.\n",
      "\n",
      "[1, 2, 3, 4]\n",
      "WARNING:tensorflow:From /Users/renoszabounidis/Documents/CoDAIL/multi-agent-irl/sandbox/mack/acktr_disc.py:51: The name tf.placeholder is deprecated. Please use tf.compat.v1.placeholder instead.\n",
      "\n",
      "WARNING:tensorflow:From /Users/renoszabounidis/Documents/CoDAIL/multi-agent-irl/sandbox/mack/policies.py:21: The name tf.variable_scope is deprecated. Please use tf.compat.v1.variable_scope instead.\n",
      "\n",
      "Tensor(\"policy_0/pi/add:0\", shape=(1, 5), dtype=float32) Tensor(\"Placeholder_16:0\", shape=(1,), dtype=int32)\n",
      "Tensor(\"policy_0_1/pi/add:0\", shape=(500, 5), dtype=float32) Tensor(\"Placeholder_20:0\", shape=(500,), dtype=int32)\n",
      "WARNING:tensorflow:From /Users/renoszabounidis/Documents/CoDAIL/multi-agent-irl/rl/acktr/utils.py:17: calling reduce_max_v1 (from tensorflow.python.ops.math_ops) with keep_dims is deprecated and will be removed in a future version.\n",
      "Instructions for updating:\n",
      "keep_dims is deprecated, use keepdims instead\n",
      "WARNING:tensorflow:From /Users/renoszabounidis/Documents/CoDAIL/multi-agent-irl/rl/acktr/utils.py:19: calling reduce_sum_v1 (from tensorflow.python.ops.math_ops) with keep_dims is deprecated and will be removed in a future version.\n",
      "Instructions for updating:\n",
      "keep_dims is deprecated, use keepdims instead\n",
      "Tensor(\"policy_1/pi/add:0\", shape=(1, 5), dtype=float32) Tensor(\"Placeholder_24:0\", shape=(1,), dtype=int32)\n",
      "Tensor(\"policy_1_1/pi/add:0\", shape=(500, 5), dtype=float32) Tensor(\"Placeholder_28:0\", shape=(500,), dtype=int32)\n",
      "Tensor(\"policy_2/pi/add:0\", shape=(1, 5), dtype=float32) Tensor(\"Placeholder_32:0\", shape=(1,), dtype=int32)\n",
      "Tensor(\"policy_2_1/pi/add:0\", shape=(500, 5), dtype=float32) Tensor(\"Placeholder_36:0\", shape=(500,), dtype=int32)\n",
      "Tensor(\"policy_3/pi/add:0\", shape=(1, 5), dtype=float32) Tensor(\"Placeholder_40:0\", shape=(1,), dtype=int32)\n",
      "Tensor(\"policy_3_1/pi/add:0\", shape=(500, 5), dtype=float32) Tensor(\"Placeholder_44:0\", shape=(500,), dtype=int32)\n"
     ]
    }
   ],
   "source": [
    "make_model = lambda: Model(\n",
    "    CategoricalPolicy, ob_space, ac_space, 1, total_timesteps=1e7, nprocs=2, nsteps=500,\n",
    "    nstack=1, ent_coef=0.01, vf_coef=0.5, vf_fisher_coef=1.0, lr=0.01, max_grad_norm=0.5, kfac_clip=0.001,\n",
    "    lrschedule='linear', identical=make_env.get_identical(env_id), use_kfac=False)\n",
    "if arg_algo in ['mack_om', 'codail']:\n",
    "    print(\"here for some reason\")\n",
    "    make_model = lambda: Model_om(\n",
    "        CategoricalPolicy_om, oppo_CategoricalPolicy, ob_space, ac_space, 1, total_timesteps=1e7, nprocs=2, nsteps=500,\n",
    "        nstack=1, ent_coef=0.01, vf_coef=0.5, vf_fisher_coef=1.0, lr=0.01, max_grad_norm=0.5, kfac_clip=0.001,\n",
    "        lrschedule='linear', identical=make_env.get_identical(env_id), use_kfac=False)\n",
    "\n",
    "model = make_model()\n",
    "model.load(path)\n",
    "\n",
    "images = []\n",
    "sample_trajs = []\n",
    "# num_trajs = 100\n",
    "max_steps = 50\n",
    "avg_ret = [[] for _ in range(n_agents)]\n",
    "\n",
    "episode_r_n_all = []\n",
    "episode_r_n_sum = []\n",
    "\n",
    "all_pos = [[] for k in range(n_agents)]"
   ]
  },
  {
   "cell_type": "code",
   "execution_count": 6,
   "id": "86d44fa7",
   "metadata": {},
   "outputs": [],
   "source": [
    "obs = env.reset()"
   ]
  },
  {
   "cell_type": "code",
   "execution_count": 7,
   "id": "67360047",
   "metadata": {
    "scrolled": false
   },
   "outputs": [
    {
     "name": "stdout",
     "output_type": "stream",
     "text": [
      "trajectory  0\n",
      "[array([-2.15736223e-01, -1.49373438e-02, -2.59484589e-01, -6.63638830e-02,\n",
      "        2.44884729e-01,  7.96152668e-03,  6.02217684e-01,  2.89494674e-01,\n",
      "       -6.68517214e-01,  8.94693437e-01,  5.08651230e-01,  6.02327227e-01,\n",
      "        4.65795022e-01,  8.69924469e-01,  4.00000000e-01,  1.28813471e-82]), array([ 3.00000000e-01,  0.00000000e+00, -9.28001803e-01,  8.28329554e-01,\n",
      "        9.13401942e-01, -8.86731910e-01,  1.27073490e+00, -6.05198763e-01,\n",
      "        6.68517214e-01, -8.94693437e-01,  1.17716844e+00, -2.92366210e-01,\n",
      "        1.13431224e+00, -2.47689676e-02,  4.00000000e-01,  1.28813471e-82]), array([-3.53506267e-13,  3.00000000e-01,  2.49166641e-01,  5.35963344e-01,\n",
      "       -2.63766502e-01, -5.94365700e-01,  9.35664534e-02, -3.12832553e-01,\n",
      "       -5.08651230e-01, -6.02327227e-01, -1.17716844e+00,  2.92366210e-01,\n",
      "       -4.28562086e-02,  2.67597242e-01,  4.00000000e-01,  1.28813471e-82]), array([ 4.00000000e-01,  1.28813471e-82,  2.06310432e-01,  8.03560586e-01,\n",
      "       -2.20910293e-01, -8.61962943e-01,  1.36422662e-01, -5.80429795e-01,\n",
      "       -4.65795022e-01, -8.69924469e-01, -1.13431224e+00,  2.47689676e-02,\n",
      "        4.28562086e-02, -2.67597242e-01])]\n"
     ]
    },
    {
     "ename": "ReraisedException",
     "evalue": "Error occured while running `from pyglet.gl import *`\nThe original exception was:\n\nImportError: Can't find framework /System/Library/Frameworks/OpenGL.framework.\n\nHINT: make sure you have OpenGL install. On Ubuntu, you can run 'apt-get install python-opengl'. If you're running on a server, you may need a virtual frame buffer; something like this should work: 'xvfb-run -s \"-screen 0 1400x900x24\" python <your_script.py>'",
     "output_type": "error",
     "traceback": [
      "\u001b[0;31m---------------------------------------------------------------------------\u001b[0m",
      "\u001b[0;31mReraisedException\u001b[0m                         Traceback (most recent call last)",
      "\u001b[0;32m<ipython-input-7-8306263b3067>\u001b[0m in \u001b[0;36m<module>\u001b[0;34m()\u001b[0m\n\u001b[1;32m     35\u001b[0m \u001b[0;34m\u001b[0m\u001b[0m\n\u001b[1;32m     36\u001b[0m         \u001b[0;32mif\u001b[0m \u001b[0marg_image\u001b[0m\u001b[0;34m:\u001b[0m\u001b[0;34m\u001b[0m\u001b[0m\n\u001b[0;32m---> 37\u001b[0;31m             \u001b[0mimg\u001b[0m \u001b[0;34m=\u001b[0m \u001b[0menv\u001b[0m\u001b[0;34m.\u001b[0m\u001b[0mrender\u001b[0m\u001b[0;34m(\u001b[0m\u001b[0mmode\u001b[0m\u001b[0;34m=\u001b[0m\u001b[0;34m'rgb_array'\u001b[0m\u001b[0;34m)\u001b[0m\u001b[0;34m\u001b[0m\u001b[0m\n\u001b[0m\u001b[1;32m     38\u001b[0m             \u001b[0mimages\u001b[0m\u001b[0;34m.\u001b[0m\u001b[0mappend\u001b[0m\u001b[0;34m(\u001b[0m\u001b[0mimg\u001b[0m\u001b[0;34m[\u001b[0m\u001b[0;36m0\u001b[0m\u001b[0;34m]\u001b[0m\u001b[0;34m)\u001b[0m\u001b[0;34m\u001b[0m\u001b[0m\n\u001b[1;32m     39\u001b[0m             \u001b[0mtime\u001b[0m\u001b[0;34m.\u001b[0m\u001b[0msleep\u001b[0m\u001b[0;34m(\u001b[0m\u001b[0;36m0.02\u001b[0m\u001b[0;34m)\u001b[0m\u001b[0;34m\u001b[0m\u001b[0m\n",
      "\u001b[0;32m/Users/renoszabounidis/Documents/CoDAIL/multi-agent-particle-envs/multiagent/environment.py\u001b[0m in \u001b[0;36mrender\u001b[0;34m(self, mode)\u001b[0m\n\u001b[1;32m    219\u001b[0m                 \u001b[0;31m# import rendering only if we need it (and don't import for headless machines)\u001b[0m\u001b[0;34m\u001b[0m\u001b[0;34m\u001b[0m\u001b[0m\n\u001b[1;32m    220\u001b[0m                 \u001b[0;31m#from gym.envs.classic_control import rendering\u001b[0m\u001b[0;34m\u001b[0m\u001b[0;34m\u001b[0m\u001b[0m\n\u001b[0;32m--> 221\u001b[0;31m                 \u001b[0;32mfrom\u001b[0m \u001b[0mmultiagent\u001b[0m \u001b[0;32mimport\u001b[0m \u001b[0mrendering\u001b[0m\u001b[0;34m\u001b[0m\u001b[0m\n\u001b[0m\u001b[1;32m    222\u001b[0m                 \u001b[0mself\u001b[0m\u001b[0;34m.\u001b[0m\u001b[0mviewers\u001b[0m\u001b[0;34m[\u001b[0m\u001b[0mi\u001b[0m\u001b[0;34m]\u001b[0m \u001b[0;34m=\u001b[0m \u001b[0mrendering\u001b[0m\u001b[0;34m.\u001b[0m\u001b[0mViewer\u001b[0m\u001b[0;34m(\u001b[0m\u001b[0;36m1000\u001b[0m\u001b[0;34m,\u001b[0m\u001b[0;36m1000\u001b[0m\u001b[0;34m)\u001b[0m\u001b[0;34m\u001b[0m\u001b[0m\n\u001b[1;32m    223\u001b[0m \u001b[0;34m\u001b[0m\u001b[0m\n",
      "\u001b[0;32m/Users/renoszabounidis/Documents/CoDAIL/multi-agent-particle-envs/multiagent/rendering.py\u001b[0m in \u001b[0;36m<module>\u001b[0;34m()\u001b[0m\n\u001b[1;32m     23\u001b[0m     \u001b[0;32mfrom\u001b[0m \u001b[0mpyglet\u001b[0m\u001b[0;34m.\u001b[0m\u001b[0mgl\u001b[0m \u001b[0;32mimport\u001b[0m \u001b[0;34m*\u001b[0m\u001b[0;34m\u001b[0m\u001b[0m\n\u001b[1;32m     24\u001b[0m \u001b[0;32mexcept\u001b[0m \u001b[0mImportError\u001b[0m \u001b[0;32mas\u001b[0m \u001b[0me\u001b[0m\u001b[0;34m:\u001b[0m\u001b[0;34m\u001b[0m\u001b[0m\n\u001b[0;32m---> 25\u001b[0;31m     \u001b[0mreraise\u001b[0m\u001b[0;34m(\u001b[0m\u001b[0mprefix\u001b[0m\u001b[0;34m=\u001b[0m\u001b[0;34m\"Error occured while running `from pyglet.gl import *`\"\u001b[0m\u001b[0;34m,\u001b[0m\u001b[0msuffix\u001b[0m\u001b[0;34m=\u001b[0m\u001b[0;34m\"HINT: make sure you have OpenGL install. On Ubuntu, you can run 'apt-get install python-opengl'. If you're running on a server, you may need a virtual frame buffer; something like this should work: 'xvfb-run -s \\\"-screen 0 1400x900x24\\\" python <your_script.py>'\"\u001b[0m\u001b[0;34m)\u001b[0m\u001b[0;34m\u001b[0m\u001b[0m\n\u001b[0m\u001b[1;32m     26\u001b[0m \u001b[0;34m\u001b[0m\u001b[0m\n\u001b[1;32m     27\u001b[0m \u001b[0;32mimport\u001b[0m \u001b[0mmath\u001b[0m\u001b[0;34m\u001b[0m\u001b[0m\n",
      "\u001b[0;32m/Users/renoszabounidis/opt/anaconda3/envs/TF1/lib/python3.5/site-packages/gym/utils/reraise.py\u001b[0m in \u001b[0;36mreraise\u001b[0;34m(prefix, suffix)\u001b[0m\n\u001b[1;32m     15\u001b[0m     \u001b[0me\u001b[0m \u001b[0;34m=\u001b[0m \u001b[0mReraisedException\u001b[0m\u001b[0;34m(\u001b[0m\u001b[0mold_exc_value\u001b[0m\u001b[0;34m,\u001b[0m \u001b[0mprefix\u001b[0m\u001b[0;34m,\u001b[0m \u001b[0msuffix\u001b[0m\u001b[0;34m)\u001b[0m\u001b[0;34m\u001b[0m\u001b[0m\n\u001b[1;32m     16\u001b[0m \u001b[0;34m\u001b[0m\u001b[0m\n\u001b[0;32m---> 17\u001b[0;31m     \u001b[0mreraise_impl\u001b[0m\u001b[0;34m(\u001b[0m\u001b[0me\u001b[0m\u001b[0;34m,\u001b[0m \u001b[0mtraceback\u001b[0m\u001b[0;34m)\u001b[0m\u001b[0;34m\u001b[0m\u001b[0m\n\u001b[0m\u001b[1;32m     18\u001b[0m \u001b[0;34m\u001b[0m\u001b[0m\n\u001b[1;32m     19\u001b[0m \u001b[0;31m# http://stackoverflow.com/a/13653312\u001b[0m\u001b[0;34m\u001b[0m\u001b[0;34m\u001b[0m\u001b[0m\n",
      "\u001b[0;32m/Users/renoszabounidis/opt/anaconda3/envs/TF1/lib/python3.5/site-packages/gym/utils/reraise_impl_py3.py\u001b[0m in \u001b[0;36mreraise_impl\u001b[0;34m(e, traceback)\u001b[0m\n\u001b[1;32m      2\u001b[0m \u001b[0;31m# semi-smart exception chaining, which we don't want in this case.\u001b[0m\u001b[0;34m\u001b[0m\u001b[0;34m\u001b[0m\u001b[0m\n\u001b[1;32m      3\u001b[0m \u001b[0;32mdef\u001b[0m \u001b[0mreraise_impl\u001b[0m\u001b[0;34m(\u001b[0m\u001b[0me\u001b[0m\u001b[0;34m,\u001b[0m \u001b[0mtraceback\u001b[0m\u001b[0;34m)\u001b[0m\u001b[0;34m:\u001b[0m\u001b[0;34m\u001b[0m\u001b[0m\n\u001b[0;32m----> 4\u001b[0;31m     \u001b[0;32mraise\u001b[0m \u001b[0me\u001b[0m\u001b[0;34m.\u001b[0m\u001b[0mwith_traceback\u001b[0m\u001b[0;34m(\u001b[0m\u001b[0mtraceback\u001b[0m\u001b[0;34m)\u001b[0m \u001b[0;32mfrom\u001b[0m \u001b[0;32mNone\u001b[0m\u001b[0;34m\u001b[0m\u001b[0m\n\u001b[0m",
      "\u001b[0;32m/Users/renoszabounidis/Documents/CoDAIL/multi-agent-particle-envs/multiagent/rendering.py\u001b[0m in \u001b[0;36m<module>\u001b[0;34m()\u001b[0m\n\u001b[1;32m     21\u001b[0m \u001b[0;34m\u001b[0m\u001b[0m\n\u001b[1;32m     22\u001b[0m \u001b[0;32mtry\u001b[0m\u001b[0;34m:\u001b[0m\u001b[0;34m\u001b[0m\u001b[0m\n\u001b[0;32m---> 23\u001b[0;31m     \u001b[0;32mfrom\u001b[0m \u001b[0mpyglet\u001b[0m\u001b[0;34m.\u001b[0m\u001b[0mgl\u001b[0m \u001b[0;32mimport\u001b[0m \u001b[0;34m*\u001b[0m\u001b[0;34m\u001b[0m\u001b[0m\n\u001b[0m\u001b[1;32m     24\u001b[0m \u001b[0;32mexcept\u001b[0m \u001b[0mImportError\u001b[0m \u001b[0;32mas\u001b[0m \u001b[0me\u001b[0m\u001b[0;34m:\u001b[0m\u001b[0;34m\u001b[0m\u001b[0m\n\u001b[1;32m     25\u001b[0m     \u001b[0mreraise\u001b[0m\u001b[0;34m(\u001b[0m\u001b[0mprefix\u001b[0m\u001b[0;34m=\u001b[0m\u001b[0;34m\"Error occured while running `from pyglet.gl import *`\"\u001b[0m\u001b[0;34m,\u001b[0m\u001b[0msuffix\u001b[0m\u001b[0;34m=\u001b[0m\u001b[0;34m\"HINT: make sure you have OpenGL install. On Ubuntu, you can run 'apt-get install python-opengl'. If you're running on a server, you may need a virtual frame buffer; something like this should work: 'xvfb-run -s \\\"-screen 0 1400x900x24\\\" python <your_script.py>'\"\u001b[0m\u001b[0;34m)\u001b[0m\u001b[0;34m\u001b[0m\u001b[0m\n",
      "\u001b[0;32m/Users/renoszabounidis/opt/anaconda3/envs/TF1/lib/python3.5/site-packages/pyglet/gl/__init__.py\u001b[0m in \u001b[0;36m<module>\u001b[0;34m()\u001b[0m\n\u001b[1;32m     93\u001b[0m \"\"\"\n\u001b[1;32m     94\u001b[0m \u001b[0;34m\u001b[0m\u001b[0m\n\u001b[0;32m---> 95\u001b[0;31m \u001b[0;32mfrom\u001b[0m \u001b[0mpyglet\u001b[0m\u001b[0;34m.\u001b[0m\u001b[0mgl\u001b[0m\u001b[0;34m.\u001b[0m\u001b[0mlib\u001b[0m \u001b[0;32mimport\u001b[0m \u001b[0mGLException\u001b[0m\u001b[0;34m\u001b[0m\u001b[0m\n\u001b[0m\u001b[1;32m     96\u001b[0m \u001b[0;32mfrom\u001b[0m \u001b[0mpyglet\u001b[0m\u001b[0;34m.\u001b[0m\u001b[0mgl\u001b[0m\u001b[0;34m.\u001b[0m\u001b[0mgl\u001b[0m \u001b[0;32mimport\u001b[0m \u001b[0;34m*\u001b[0m\u001b[0;34m\u001b[0m\u001b[0m\n\u001b[1;32m     97\u001b[0m \u001b[0;32mfrom\u001b[0m \u001b[0mpyglet\u001b[0m\u001b[0;34m.\u001b[0m\u001b[0mgl\u001b[0m\u001b[0;34m.\u001b[0m\u001b[0mglu\u001b[0m \u001b[0;32mimport\u001b[0m \u001b[0;34m*\u001b[0m\u001b[0;34m\u001b[0m\u001b[0m\n",
      "\u001b[0;32m/Users/renoszabounidis/opt/anaconda3/envs/TF1/lib/python3.5/site-packages/pyglet/gl/lib.py\u001b[0m in \u001b[0;36m<module>\u001b[0;34m()\u001b[0m\n\u001b[1;32m    145\u001b[0m     \u001b[0;32mfrom\u001b[0m \u001b[0mpyglet\u001b[0m\u001b[0;34m.\u001b[0m\u001b[0mgl\u001b[0m\u001b[0;34m.\u001b[0m\u001b[0mlib_wgl\u001b[0m \u001b[0;32mimport\u001b[0m \u001b[0mlink_GL\u001b[0m\u001b[0;34m,\u001b[0m \u001b[0mlink_GLU\u001b[0m\u001b[0;34m,\u001b[0m \u001b[0mlink_WGL\u001b[0m\u001b[0;34m\u001b[0m\u001b[0m\n\u001b[1;32m    146\u001b[0m \u001b[0;32melif\u001b[0m \u001b[0mpyglet\u001b[0m\u001b[0;34m.\u001b[0m\u001b[0mcompat_platform\u001b[0m \u001b[0;34m==\u001b[0m \u001b[0;34m'darwin'\u001b[0m\u001b[0;34m:\u001b[0m\u001b[0;34m\u001b[0m\u001b[0m\n\u001b[0;32m--> 147\u001b[0;31m     \u001b[0;32mfrom\u001b[0m \u001b[0mpyglet\u001b[0m\u001b[0;34m.\u001b[0m\u001b[0mgl\u001b[0m\u001b[0;34m.\u001b[0m\u001b[0mlib_agl\u001b[0m \u001b[0;32mimport\u001b[0m \u001b[0mlink_GL\u001b[0m\u001b[0;34m,\u001b[0m \u001b[0mlink_GLU\u001b[0m\u001b[0;34m,\u001b[0m \u001b[0mlink_AGL\u001b[0m\u001b[0;34m\u001b[0m\u001b[0m\n\u001b[0m\u001b[1;32m    148\u001b[0m \u001b[0;32melse\u001b[0m\u001b[0;34m:\u001b[0m\u001b[0;34m\u001b[0m\u001b[0m\n\u001b[1;32m    149\u001b[0m     \u001b[0;32mfrom\u001b[0m \u001b[0mpyglet\u001b[0m\u001b[0;34m.\u001b[0m\u001b[0mgl\u001b[0m\u001b[0;34m.\u001b[0m\u001b[0mlib_glx\u001b[0m \u001b[0;32mimport\u001b[0m \u001b[0mlink_GL\u001b[0m\u001b[0;34m,\u001b[0m \u001b[0mlink_GLU\u001b[0m\u001b[0;34m,\u001b[0m \u001b[0mlink_GLX\u001b[0m\u001b[0;34m\u001b[0m\u001b[0m\n",
      "\u001b[0;32m/Users/renoszabounidis/opt/anaconda3/envs/TF1/lib/python3.5/site-packages/pyglet/gl/lib_agl.py\u001b[0m in \u001b[0;36m<module>\u001b[0;34m()\u001b[0m\n\u001b[1;32m     41\u001b[0m \u001b[0m__all__\u001b[0m \u001b[0;34m=\u001b[0m \u001b[0;34m[\u001b[0m\u001b[0;34m'link_GL'\u001b[0m\u001b[0;34m,\u001b[0m \u001b[0;34m'link_GLU'\u001b[0m\u001b[0;34m,\u001b[0m \u001b[0;34m'link_AGL'\u001b[0m\u001b[0;34m]\u001b[0m\u001b[0;34m\u001b[0m\u001b[0m\n\u001b[1;32m     42\u001b[0m \u001b[0;34m\u001b[0m\u001b[0m\n\u001b[0;32m---> 43\u001b[0;31m \u001b[0mgl_lib\u001b[0m \u001b[0;34m=\u001b[0m \u001b[0mpyglet\u001b[0m\u001b[0;34m.\u001b[0m\u001b[0mlib\u001b[0m\u001b[0;34m.\u001b[0m\u001b[0mload_library\u001b[0m\u001b[0;34m(\u001b[0m\u001b[0mframework\u001b[0m\u001b[0;34m=\u001b[0m\u001b[0;34m'/System/Library/Frameworks/OpenGL.framework'\u001b[0m\u001b[0;34m)\u001b[0m\u001b[0;34m\u001b[0m\u001b[0m\n\u001b[0m\u001b[1;32m     44\u001b[0m \u001b[0magl_lib\u001b[0m \u001b[0;34m=\u001b[0m \u001b[0mpyglet\u001b[0m\u001b[0;34m.\u001b[0m\u001b[0mlib\u001b[0m\u001b[0;34m.\u001b[0m\u001b[0mload_library\u001b[0m\u001b[0;34m(\u001b[0m\u001b[0mframework\u001b[0m\u001b[0;34m=\u001b[0m\u001b[0;34m'/System/Library/Frameworks/AGL.framework'\u001b[0m\u001b[0;34m)\u001b[0m\u001b[0;34m\u001b[0m\u001b[0m\n\u001b[1;32m     45\u001b[0m \u001b[0;34m\u001b[0m\u001b[0m\n",
      "\u001b[0;32m/Users/renoszabounidis/opt/anaconda3/envs/TF1/lib/python3.5/site-packages/pyglet/lib.py\u001b[0m in \u001b[0;36mload_library\u001b[0;34m(self, *names, **kwargs)\u001b[0m\n\u001b[1;32m    122\u001b[0m \u001b[0;34m\u001b[0m\u001b[0m\n\u001b[1;32m    123\u001b[0m         \u001b[0;32mif\u001b[0m \u001b[0;34m'framework'\u001b[0m \u001b[0;32min\u001b[0m \u001b[0mkwargs\u001b[0m \u001b[0;32mand\u001b[0m \u001b[0mself\u001b[0m\u001b[0;34m.\u001b[0m\u001b[0mplatform\u001b[0m \u001b[0;34m==\u001b[0m \u001b[0;34m'darwin'\u001b[0m\u001b[0;34m:\u001b[0m\u001b[0;34m\u001b[0m\u001b[0m\n\u001b[0;32m--> 124\u001b[0;31m             \u001b[0;32mreturn\u001b[0m \u001b[0mself\u001b[0m\u001b[0;34m.\u001b[0m\u001b[0mload_framework\u001b[0m\u001b[0;34m(\u001b[0m\u001b[0mkwargs\u001b[0m\u001b[0;34m[\u001b[0m\u001b[0;34m'framework'\u001b[0m\u001b[0;34m]\u001b[0m\u001b[0;34m)\u001b[0m\u001b[0;34m\u001b[0m\u001b[0m\n\u001b[0m\u001b[1;32m    125\u001b[0m \u001b[0;34m\u001b[0m\u001b[0m\n\u001b[1;32m    126\u001b[0m         \u001b[0;32mif\u001b[0m \u001b[0;32mnot\u001b[0m \u001b[0mnames\u001b[0m\u001b[0;34m:\u001b[0m\u001b[0;34m\u001b[0m\u001b[0m\n",
      "\u001b[0;32m/Users/renoszabounidis/opt/anaconda3/envs/TF1/lib/python3.5/site-packages/pyglet/lib.py\u001b[0m in \u001b[0;36mload_framework\u001b[0;34m(self, path)\u001b[0m\n\u001b[1;32m    277\u001b[0m             \u001b[0;32mreturn\u001b[0m \u001b[0mlib\u001b[0m\u001b[0;34m\u001b[0m\u001b[0m\n\u001b[1;32m    278\u001b[0m \u001b[0;34m\u001b[0m\u001b[0m\n\u001b[0;32m--> 279\u001b[0;31m         \u001b[0;32mraise\u001b[0m \u001b[0mImportError\u001b[0m\u001b[0;34m(\u001b[0m\u001b[0;34m\"Can't find framework %s.\"\u001b[0m \u001b[0;34m%\u001b[0m \u001b[0mpath\u001b[0m\u001b[0;34m)\u001b[0m\u001b[0;34m\u001b[0m\u001b[0m\n\u001b[0m\u001b[1;32m    280\u001b[0m \u001b[0;34m\u001b[0m\u001b[0m\n\u001b[1;32m    281\u001b[0m \u001b[0;34m\u001b[0m\u001b[0m\n",
      "\u001b[0;31mReraisedException\u001b[0m: Error occured while running `from pyglet.gl import *`\nThe original exception was:\n\nImportError: Can't find framework /System/Library/Frameworks/OpenGL.framework.\n\nHINT: make sure you have OpenGL install. On Ubuntu, you can run 'apt-get install python-opengl'. If you're running on a server, you may need a virtual frame buffer; something like this should work: 'xvfb-run -s \"-screen 0 1400x900x24\" python <your_script.py>'"
     ]
    }
   ],
   "source": [
    "for i in range(arg_num_trajs):\n",
    "    print(\"trajectory \", i)\n",
    "    all_ob, all_agent_ob, all_ac, all_rew, ep_ret = [], [], [], [], [0 for k in range(n_agents)]\n",
    "    for k in range(n_agents):\n",
    "        all_ob.append([])\n",
    "        all_ac.append([])\n",
    "        all_rew.append([])\n",
    "    obs = env.reset()\n",
    "    obs = [ob[None, :] for ob in obs]\n",
    "    action = [np.zeros([1]) for _ in range(n_agents)]\n",
    "    step = 0\n",
    "    done = False\n",
    "    episode_r_n = [0.] * n_agents\n",
    "    while (not done) or (step<=2):\n",
    "        if arg_algo != \"random\":\n",
    "            action, _, _ = model.step(obs, action)\n",
    "            actions_list = [onehot(action[k][0], n_actions[k]) for k in range(n_agents)]\n",
    "        else:\n",
    "            actions_list = [onehot(np.random.randint(n_actions[k]), n_actions[k]) for k in range(n_agents)]\n",
    "\n",
    "        for k in range(n_agents):\n",
    "            all_ob[k].append(obs[k])\n",
    "            all_ac[k].append(actions_list[k])\n",
    "        all_agent_ob.append(np.concatenate(obs, axis=1))\n",
    "        obs, rew, done, _ = env.step(actions_list)\n",
    "        print(obs)\n",
    "        episode_r_n = [episode_r_n[i]+rew[i] for i in range(n_agents)]\n",
    "        for k in range(n_agents):\n",
    "            all_rew[k].append(rew[k])\n",
    "            ep_ret[k] += rew[k]\n",
    "            all_pos[k].append(np.array(env.world.agents[k].state.p_pos))\n",
    "\n",
    "        obs = [ob[None, :] for ob in obs]\n",
    "        step += 1\n",
    "\n",
    "        if arg_image:\n",
    "            img = env.render(mode='rgb_array')\n",
    "            images.append(img[0])\n",
    "            time.sleep(0.02)\n",
    "        if step == max_steps or True in done:\n",
    "            done = True\n",
    "            # step = 0\n",
    "        else:\n",
    "            done = False\n",
    "\n",
    "    # print(\"\\n--- episode-{} | [sum-reward]: {}\".format(i, np.sum(episode_r_n)))\n",
    "    episode_r_n_all.append(episode_r_n)\n",
    "    episode_r_n_sum.append(np.sum(episode_r_n))\n",
    "\n",
    "    for k in range(n_agents):\n",
    "        all_ob[k] = np.squeeze(all_ob[k])\n",
    "\n",
    "    all_agent_ob = np.squeeze(all_agent_ob)\n",
    "    traj_data = {\n",
    "        \"ob\": all_ob, \"ac\": all_ac, \"rew\": all_rew,\n",
    "        \"ep_ret\": ep_ret, \"all_ob\": all_agent_ob\n",
    "    }\n",
    "\n",
    "    sample_trajs.append(traj_data)\n",
    "    # print('episode', i, 'expected_return', ep_ret)\n",
    "\n",
    "    for k in range(n_agents):\n",
    "        avg_ret[k].append(ep_ret[k])"
   ]
  },
  {
   "cell_type": "code",
   "execution_count": null,
   "id": "46a7cae8",
   "metadata": {},
   "outputs": [],
   "source": [
    "images = []\n",
    "for i in range(50):\n",
    "    \n",
    "    obs, rew, done, _ = env.step(actions_list)\n",
    "    \n",
    "    img = env.render(mode='rgb_array')\n",
    "    images.append(img[0])\n",
    "    time.sleep(0.02)\n",
    "\n"
   ]
  },
  {
   "cell_type": "code",
   "execution_count": null,
   "id": "fc4f82fe",
   "metadata": {},
   "outputs": [],
   "source": []
  }
 ],
 "metadata": {
  "kernelspec": {
   "display_name": "Python 3",
   "language": "python",
   "name": "python3"
  },
  "language_info": {
   "codemirror_mode": {
    "name": "ipython",
    "version": 3
   },
   "file_extension": ".py",
   "mimetype": "text/x-python",
   "name": "python",
   "nbconvert_exporter": "python",
   "pygments_lexer": "ipython3",
   "version": "3.5.6"
  }
 },
 "nbformat": 4,
 "nbformat_minor": 5
}
