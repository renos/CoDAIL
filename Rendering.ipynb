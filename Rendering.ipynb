{
 "cells": [
  {
   "cell_type": "code",
   "execution_count": null,
   "id": "e70eb7ad",
   "metadata": {},
   "outputs": [],
   "source": [
    "# render environment\n",
    "    def render(self, mode='human'):\n",
    "\n",
    "        for i in range(len(self.viewers)):\n",
    "            # create viewers (if necessary)\n",
    "            if self.viewers[i] is None:\n",
    "                # import rendering only if we need it (and don't import for headless machines)\n",
    "                #from gym.envs.classic_control import rendering\n",
    "                from multiagent import rendering\n",
    "                self.viewers[i] = rendering.Viewer(700,700)\n",
    "\n",
    "        # create rendering geometry\n",
    "        if self.render_geoms is None:\n",
    "            # import rendering only if we need it (and don't import for headless machines)\n",
    "            #from gym.envs.classic_control import rendering\n",
    "            from multiagent import rendering\n",
    "            self.render_geoms = []\n",
    "            self.render_geoms_xform = []\n",
    "            for entity in self.world.entities:\n",
    "                geom = rendering.make_circle(entity.size)\n",
    "                xform = rendering.Transform()\n",
    "                if 'agent' in entity.name:\n",
    "                    geom.set_color(*entity.color, alpha=0.5)\n",
    "                else:\n",
    "                    geom.set_color(*entity.color)\n",
    "                geom.add_attr(xform)\n",
    "                self.render_geoms.append(geom)\n",
    "                self.render_geoms_xform.append(xform)\n",
    "\n",
    "            # add geoms to viewer\n",
    "            for viewer in self.viewers:\n",
    "                viewer.geoms = []\n",
    "                for geom in self.render_geoms:\n",
    "                    viewer.add_geom(geom)\n",
    "\n",
    "        results = []\n",
    "        for i in range(len(self.viewers)):\n",
    "            from multiagent import rendering\n",
    "            # update bounds to center around agent\n",
    "            cam_range = 1\n",
    "            if self.shared_viewer:\n",
    "                pos = np.zeros(self.world.dim_p)\n",
    "            else:\n",
    "                pos = self.agents[i].state.p_pos\n",
    "            self.viewers[i].set_bounds(pos[0]-cam_range,pos[0]+cam_range,pos[1]-cam_range,pos[1]+cam_range)\n",
    "            # update geometry positions\n",
    "            for e, entity in enumerate(self.world.entities):\n",
    "                self.render_geoms_xform[e].set_translation(*entity.state.p_pos)\n",
    "            # render to display or array\n",
    "            results.append(self.viewers[i].render(return_rgb_array = mode=='rgb_array'))\n",
    "\n",
    "        return results"
   ]
  }
 ],
 "metadata": {
  "kernelspec": {
   "display_name": "Python 3",
   "language": "python",
   "name": "python3"
  },
  "language_info": {
   "codemirror_mode": {
    "name": "ipython",
    "version": 3
   },
   "file_extension": ".py",
   "mimetype": "text/x-python",
   "name": "python",
   "nbconvert_exporter": "python",
   "pygments_lexer": "ipython3",
   "version": "3.5.6"
  }
 },
 "nbformat": 4,
 "nbformat_minor": 5
}
